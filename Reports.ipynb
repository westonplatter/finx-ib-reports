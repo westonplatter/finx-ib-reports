{
 "cells": [
  {
   "cell_type": "code",
   "execution_count": null,
   "id": "8d1203d3-9920-4309-bfd5-e9b364a6a683",
   "metadata": {},
   "outputs": [],
   "source": [
    "import pandas as pd\n",
    "import matplotlib as plt\n",
    "from finx_ib_reports.download_trades import load_report"
   ]
  },
  {
   "cell_type": "code",
   "execution_count": null,
   "id": "0fc3f41d",
   "metadata": {},
   "outputs": [],
   "source": [
    "fn = \"data/flex_report_1648404346.xml\"\n",
    "report = load_report(fn)"
   ]
  },
  {
   "cell_type": "code",
   "execution_count": null,
   "id": "b6d7fb03",
   "metadata": {},
   "outputs": [],
   "source": [
    "\n",
    "report.df(\"OpenPosition\")\n",
    "\n",
    "report.df(\"Trade\")"
   ]
  },
  {
   "cell_type": "code",
   "execution_count": null,
   "id": "8f3d69ff-95d6-4ab5-aa92-5fed6cf813da",
   "metadata": {},
   "outputs": [],
   "source": [
    "# fn = \"~/Desktop/lsc-2022-q1.xlsx\"\n",
    "# df = pd.read_excel(fn)\n",
    "# df.dtypes\n",
    "\n",
    "# # df.Return = df.Return.astype(float)\n",
    "# df[df.Return == \"< -2000000\"]"
   ]
  },
  {
   "cell_type": "code",
   "execution_count": null,
   "id": "14707cfd-51b5-43c5-b3f1-6cf9c460b2b0",
   "metadata": {},
   "outputs": [],
   "source": [
    "# determine the underlying contract. Eg (ES, MES, MNQ, CL)\n",
    "df[\"underlyingSymbol\"] = df.Description.str.split(\"\\s\", expand=True).iloc[:, 0]\n",
    "\n",
    "# combine Unrealized and Realized\n",
    "df[\"totalPnL\"] = df[\"Realized_P&L\"] + df[\"Unrealized_P&L\"]\n",
    "\n",
    "def gen_mapper_dict():\n",
    "    tag_def = {\n",
    "        \"Oil\": [\"CL\", \"MCL\"],\n",
    "        \"EquityIndex\": [\"ES\", \"MES\", \"NQ\", \"MNQ\"],\n",
    "        \"Corn\": [\"ZC\", \"YC\"],\n",
    "        \"Rates\": [\"ZN\"],\n",
    "        \"Gold\": [\"MGC\", \"GC\"],\n",
    "    }\n",
    "    mapper_dict = {}\n",
    "    for k,v in tag_def.items():\n",
    "        for product in v:\n",
    "            mapper_dict[product] = k\n",
    "    return mapper_dict\n",
    "\n",
    "\n",
    "# tag with business line\n",
    "def categorize(row) -> str:\n",
    "    md = gen_mapper_dict()\n",
    "    return md[row['underlyingSymbol']]"
   ]
  },
  {
   "cell_type": "code",
   "execution_count": null,
   "id": "6853c287-e87a-4b28-81a7-465731c29902",
   "metadata": {},
   "outputs": [],
   "source": [
    "#\n",
    "# End goal, group all instruments into the categories we trade and plot. \n",
    "# categories: Crude, EquityVol, Rates, Corn, and Gold\n",
    "#\n",
    "# underlying df\n",
    "udf = df.groupby([\"underlyingSymbol\"]).agg({\"totalPnL\": \"sum\"}).reset_index()\n",
    "udf['category'] = udf.apply(lambda row: categorize(row), axis=1)\n",
    "\n",
    "# category df\n",
    "cdf = x.groupby([\"category\"]).agg({\"Contribution\": \"sum\", \"totalPnL\": \"sum\"}).reset_index().set_index([\"category\"])\n",
    "cdf[\"Percent\"] = (cdf[\"totalPnL\"] / cdf.totalPnL.sum())\n",
    "\n",
    "# plot cdf\n",
    "axes = cdf[[\"totalPnL\", \"Percent\"]].plot.bar(rot=0, subplots=True, figsize=(10, 14))\n",
    "axes[1].legend(loc=2)\n",
    "\n",
    "# format dollar values\n",
    "axes[0].get_yaxis().set_major_formatter(\n",
    "    plt.ticker.FuncFormatter(lambda x, p: format(int(x), ',')))\n",
    "\n",
    "# format percent values\n",
    "axes[1].get_yaxis().set_major_formatter(\n",
    "    plt.ticker.PercentFormatter())\n",
    "\n",
    "cdf.reset_index().to_csv(\"lsc-2022-q1.csv\")"
   ]
  }
 ],
 "metadata": {
  "interpreter": {
   "hash": "b1bbe2dc033249e83c0b81ca16d6b2bcfbf3e9d3b47765d1670aefc3965e3692"
  },
  "kernelspec": {
   "display_name": "finx-all",
   "language": "python",
   "name": "finx-all"
  },
  "language_info": {
   "codemirror_mode": {
    "name": "ipython",
    "version": 3
   },
   "file_extension": ".py",
   "mimetype": "text/x-python",
   "name": "python",
   "nbconvert_exporter": "python",
   "pygments_lexer": "ipython3",
   "version": "3.8.9"
  }
 },
 "nbformat": 4,
 "nbformat_minor": 5
}
