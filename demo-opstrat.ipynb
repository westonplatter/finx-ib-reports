{
 "cells": [
  {
   "cell_type": "code",
   "execution_count": 21,
   "id": "73a9f801-3baf-41ec-b748-dda171bd1a2c",
   "metadata": {},
   "outputs": [],
   "source": [
    "import numpy as np\n",
    "import opstrat as op\n",
    "from opstrat.basic_multi import multi_plotter\n",
    "import pandas as pd"
   ]
  },
  {
   "cell_type": "code",
   "execution_count": 19,
   "id": "cd52bd1f-85ff-4099-a4d2-a9894b1be97e",
   "metadata": {},
   "outputs": [],
   "source": [
    "# initial params\n",
    "K  = 95     # strike price\n",
    "St = 90   # current stock price\n",
    "r  = 0.25      # 4% risk free rate\n",
    "# t = 7     # time to expiry, 30 days \n",
    "v = 30     # volatility \n",
    "type = 'c' # Option type call\n",
    "\n",
    "# data structure to collect calcs\n",
    "results = {\n",
    "    'delta': [],\n",
    "    'dte': [],\n",
    "}\n",
    "\n",
    "\n",
    "for t in range(10, 20):\n",
    "    # compute\n",
    "    bsm = op.black_scholes(K=K, St=St, r=r, t=t, v=v, type='c')\n",
    "    greeks = bsm['greeks']    \n",
    "    delta = greeks['delta']\n",
    "\n",
    "    # collect calcs\n",
    "    results['delta'].append(delta)\n",
    "    results['dte'].append(t)\n",
    "\n",
    "    \n",
    "df = pd.DataFrame(results)"
   ]
  },
  {
   "cell_type": "code",
   "execution_count": 20,
   "id": "d84174ae-e49b-44bd-8799-5033b965f640",
   "metadata": {},
   "outputs": [],
   "source": []
  }
 ],
 "metadata": {
  "kernelspec": {
   "display_name": "finx-all",
   "language": "python",
   "name": "finx-all"
  },
  "language_info": {
   "codemirror_mode": {
    "name": "ipython",
    "version": 3
   },
   "file_extension": ".py",
   "mimetype": "text/x-python",
   "name": "python",
   "nbconvert_exporter": "python",
   "pygments_lexer": "ipython3",
   "version": "3.8.9"
  }
 },
 "nbformat": 4,
 "nbformat_minor": 5
}
