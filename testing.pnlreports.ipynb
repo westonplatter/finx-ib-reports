{
 "cells": [
  {
   "cell_type": "code",
   "execution_count": null,
   "id": "b9477593-2e24-4fc0-9ca9-d145e4693177",
   "metadata": {},
   "outputs": [],
   "source": [
    "import pandas as pd\n",
    "from finx_ib_reports.input_sources import TwsApiSource\n",
    "\n",
    "from ib_insync import util, IB, Index, Future, Contract, Option"
   ]
  },
  {
   "cell_type": "code",
   "execution_count": null,
   "id": "cce6fd97-af71-405a-8200-c96d1bcde7b0",
   "metadata": {},
   "outputs": [],
   "source": [
    "util.startLoop()"
   ]
  },
  {
   "cell_type": "code",
   "execution_count": null,
   "id": "619bd797-862e-443c-875c-ddf3eccdc162",
   "metadata": {},
   "outputs": [],
   "source": [
    "ib = IB()\n",
    "ib.connect('127.0.0.1', 8888, clientId=5)"
   ]
  },
  {
   "cell_type": "code",
   "execution_count": null,
   "id": "1c723edf-61ba-467b-a9b4-e8b2b095b46f",
   "metadata": {},
   "outputs": [],
   "source": [
    "crude = Future('CL', lastTradeDateOrContractMonth='202204', exchange='NYMEX', localSymbol=\"CLJ2\")\n",
    "ib.qualifyContracts(crude)\n",
    "crude"
   ]
  },
  {
   "cell_type": "code",
   "execution_count": null,
   "id": "cdc25292-422a-49d5-a506-60c3a4b8904e",
   "metadata": {},
   "outputs": [],
   "source": [
    "ib.reqMarketDataType(3)"
   ]
  },
  {
   "cell_type": "code",
   "execution_count": null,
   "id": "4958da17-b0bf-4d89-b00a-85072211170f",
   "metadata": {},
   "outputs": [],
   "source": [
    "[ticker] = ib.reqTickers(crude)\n",
    "print(ticker)\n",
    "\n",
    "crude_current_price = ticker.marketPrice()\n",
    "crude_current_price"
   ]
  },
  {
   "cell_type": "code",
   "execution_count": null,
   "id": "83fcbf1a-9088-43c1-8413-28483459540d",
   "metadata": {},
   "outputs": [],
   "source": [
    "# chains = ib.reqSecDefOptParams(crude.symbol, crude.exchange, crude.secType, crude.conId)\n",
    "# util.df(chains)"
   ]
  },
  {
   "cell_type": "code",
   "execution_count": null,
   "id": "b232025c-ebf7-490d-81cf-c740f6509e3d",
   "metadata": {},
   "outputs": [],
   "source": [
    "def gen_option_contracts(contract):\n",
    "    return Option(contract.localSymbol, \"20220225\", 100.0, \"C\", multiplier=contract.multiplier)\n",
    "\n",
    "options = gen_option_contracts(ticker.contract)"
   ]
  },
  {
   "cell_type": "code",
   "execution_count": null,
   "id": "393e8f18-2b1f-4188-b55c-bb2c45dd6ab9",
   "metadata": {},
   "outputs": [],
   "source": []
  },
  {
   "cell_type": "code",
   "execution_count": null,
   "id": "1bbd97e9-e84f-43b2-851a-93d5fc2ce89f",
   "metadata": {},
   "outputs": [],
   "source": [
    "contract = ticker.contract\n",
    "# option = Option(contract.localSymbol, \"20220225\", 100.0, \"C\", multiplier=contract.multiplier)\n",
    "\n",
    "import numpy as np\n",
    "\n",
    "def gen_fops_contracts(contract: Contract, expiration_date: str):\n",
    "    contracts = []\n",
    "    for strike in np.arange(96, 100, 0.5):\n",
    "        for put_call in [\"C\"]:\n",
    "            contract = Contract.create(\n",
    "                secType=\"FOP\", \n",
    "                conId=contract.conId, \n",
    "                symbol=contract.symbol, \n",
    "                lastTradeDateOrContractMonth=expiration_date,\n",
    "                strike=100.0,\n",
    "                includeExpired=False\n",
    "            )\n",
    "            contracts.append(contract)\n",
    "    return contracts\n",
    "\n",
    "contracts = gen_fops_contracts(ticker.contract, \"20220225\")\n",
    "ib.qualifyContracts(*contracts)\n",
    "\n",
    "len(contracts)"
   ]
  },
  {
   "cell_type": "code",
   "execution_count": null,
   "id": "d0344b59-ad5f-49bc-a4bf-ba6d66cecd50",
   "metadata": {},
   "outputs": [],
   "source": [
    "tickers = ib.reqTickers(*contracts)\n",
    "\n",
    "t = tickers[0]\n",
    "\n",
    "ib.reqMktData(crude)\n",
    "underlying_price = ticker.marketPrice()\n",
    "\n",
    "# iv = ib.calculateImpliedVolatility(crude, t.bid, underlying_price, [])\n",
    "\n",
    "# option = Option('AAPL', '20220225', 150, 'C', \"SMART\", multiplier=100)\n",
    "\n",
    "# calc = ib.calculateImpliedVolatility(option, optionPrice=6.1, underPrice=150)\n",
    "# print(calc)\n",
    "\n",
    "# # calc = ib.calculateOptionPrice(\n",
    "# #     option, volatility=0.14, underPrice=525))\n",
    "# # print(calc)\n",
    "# calc = ib.calculateOptionPrice(t.contract, volatility=0.51, underPrice=97)\n",
    "# print(calc)\n",
    "\n",
    "# x = ib.reqMktData(t.contract, \"233\", False, False)\n",
    "\n",
    "# x = ib.reqMktData(t.contract, \"12\", False, False)\n",
    "\n",
    "t.contract"
   ]
  },
  {
   "cell_type": "code",
   "execution_count": null,
   "id": "cdcee02d-5b0a-41f8-8244-eb548f6d73f7",
   "metadata": {},
   "outputs": [],
   "source": [
    "ib.disconnect()"
   ]
  },
  {
   "cell_type": "code",
   "execution_count": null,
   "id": "d6f2c98c-ce53-4bf9-b905-c902cee25171",
   "metadata": {},
   "outputs": [],
   "source": [
    "t.avOptionVolume"
   ]
  }
 ],
 "metadata": {
  "kernelspec": {
   "display_name": "Python finx-all",
   "language": "python",
   "name": "finx-all"
  },
  "language_info": {
   "codemirror_mode": {
    "name": "ipython",
    "version": 3
   },
   "file_extension": ".py",
   "mimetype": "text/x-python",
   "name": "python",
   "nbconvert_exporter": "python",
   "pygments_lexer": "ipython3",
   "version": "3.8.12"
  }
 },
 "nbformat": 4,
 "nbformat_minor": 5
}
