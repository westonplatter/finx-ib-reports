{
 "cells": [
  {
   "cell_type": "code",
   "execution_count": null,
   "id": "b9477593-2e24-4fc0-9ca9-d145e4693177",
   "metadata": {},
   "outputs": [],
   "source": [
    "import pandas as pd\n",
    "from finx_ib_reports.input_sources import TwsApiSource\n",
    "\n",
    "from ib_insync import util, IB"
   ]
  },
  {
   "cell_type": "code",
   "execution_count": null,
   "id": "cce6fd97-af71-405a-8200-c96d1bcde7b0",
   "metadata": {},
   "outputs": [],
   "source": [
    "util.startLoop()"
   ]
  },
  {
   "cell_type": "code",
   "execution_count": null,
   "id": "619bd797-862e-443c-875c-ddf3eccdc162",
   "metadata": {},
   "outputs": [],
   "source": [
    "ib = IB()\n",
    "ib.connect('127.0.0.1', 8888, clientId=3)"
   ]
  },
  {
   "cell_type": "code",
   "execution_count": null,
   "id": "393e8f18-2b1f-4188-b55c-bb2c45dd6ab9",
   "metadata": {},
   "outputs": [],
   "source": [
    "similar_product_mapping = {\n",
    "    \"MCL\": \"MCL\",\n",
    "    \"YC\": \"ZC\"\n",
    "}\n",
    "\n",
    "s = TwsApiSource(ib)\n",
    "aids = [x for x in s.get_accounts() if 'U31' in x]\n",
    "\n",
    "for aid in aids:\n",
    "    positions = s.get_positions(aid)\n",
    "\n",
    "positions = [x for x in positions if x.contract.symbol in (\"CL\", \"MCL\")]    "
   ]
  },
  {
   "cell_type": "code",
   "execution_count": null,
   "id": "53387194-ff04-4152-b4a7-778acbb7e456",
   "metadata": {},
   "outputs": [],
   "source": [
    "from ib_insync.objects import PnLSingle\n",
    "\n",
    "for x in positions:\n",
    "    ib.reqPnLSingle(account=aid, conId=x.contract.conId, modelCode=\"\")\n",
    "    # ib.cancelPnLSingle(account=aid, modelCode=\"\", conId=x.contract.conId)"
   ]
  },
  {
   "cell_type": "code",
   "execution_count": null,
   "id": "01dd0a83-5e93-4282-823d-fdeb9f5ce47c",
   "metadata": {},
   "outputs": [],
   "source": [
    "ib.pnlSingle()"
   ]
  },
  {
   "cell_type": "code",
   "execution_count": null,
   "id": "6512d002-78d6-4e66-8a54-fa343a5ebc26",
   "metadata": {},
   "outputs": [],
   "source": [
    "import re\n",
    "\n",
    "def format_col_names(cols):\n",
    "    result = []\n",
    "    for col in cols:\n",
    "        col = re.sub(r'(?<!^)(?=[A-Z])', '_', col).lower()\n",
    "        result.append(col)\n",
    "    return result\n",
    "\n",
    "def resolve_contract_columns(df):\n",
    "    con_ids = []\n",
    "    for col in df.columns:\n",
    "        if \".con_id\" in col:\n",
    "            con_ids.append(col)\n",
    "    df[\"resolved_con_id\"] = df[con_ids].apply(lambda row: int(row.values[row.notna()][0]), axis=1)\n",
    "    return df\n",
    "    \n",
    "def gen_positions_df(positions):\n",
    "    df = pd.DataFrame(positions)\n",
    "    cdf = pd.json_normalize(pd.DataFrame(util.tree(positions)).contract)\n",
    "    df[cdf.columns] = cdf\n",
    "    df.drop(\"contract\", inplace=True, axis=1)\n",
    "    df.columns = format_col_names(df.columns)\n",
    "    return df\n",
    "\n",
    "def add_on_pnl(df, pnl_singles):\n",
    "    for i, row in df.iterrows():\n",
    "        con_id = row[\"resolved_con_id\"]\n",
    "        pnl_single = list(filter(lambda x: x.conId == con_id, pnl_singles))[0]\n",
    "        df.at[row.name, 'pnl_daily'] = pnl_single.dailyPnL\n",
    "        df.at[row.name, 'pnl_net'] = pnl_single.unrealizedPnL\n",
    "    return df\n",
    "\n",
    "df = gen_positions_df(positions)\n",
    "df = resolve_contract_columns(df)\n",
    "\n",
    "df['pnl_daily'] = None\n",
    "df['pnl_net'] = None\n",
    "\n",
    "df = add_on_pnl(df, ib.pnlSingle())\n",
    "\n",
    "df[['pnl_daily', 'pnl_net']].sum()"
   ]
  },
  {
   "cell_type": "code",
   "execution_count": null,
   "id": "12885875-e617-4f9c-acd9-08d6c7c591ab",
   "metadata": {},
   "outputs": [],
   "source": [
    "ib.disconnect()"
   ]
  }
 ],
 "metadata": {
  "kernelspec": {
   "display_name": "Python finx-all",
   "language": "python",
   "name": "finx-all"
  },
  "language_info": {
   "codemirror_mode": {
    "name": "ipython",
    "version": 3
   },
   "file_extension": ".py",
   "mimetype": "text/x-python",
   "name": "python",
   "nbconvert_exporter": "python",
   "pygments_lexer": "ipython3",
   "version": "3.8.12"
  }
 },
 "nbformat": 4,
 "nbformat_minor": 5
}
